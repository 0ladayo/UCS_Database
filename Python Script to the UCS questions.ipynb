{
 "cells": [
  {
   "cell_type": "code",
   "execution_count": null,
   "id": "37aa6e42",
   "metadata": {},
   "outputs": [],
   "source": [
    "#Exploring the data \n",
    "\n",
    "import pandas as pd\n",
    "\n",
    "df=pd.read_excel('UCS-Satellite-Database-9-1-2021.xls')\n",
    "\n",
    "print(df.shape)\n",
    "\n",
    "print(df.columns)\n",
    "\n",
    "print(df.info())\n",
    "\n",
    "\n",
    "df.drop(['Unnamed: 28','Unnamed: 37',\n",
    "       'Unnamed: 38', 'Unnamed: 39', 'Unnamed: 40', 'Unnamed: 41',\n",
    "       'Unnamed: 42', 'Unnamed: 43', 'Unnamed: 44', 'Unnamed: 45',\n",
    "       'Unnamed: 46', 'Unnamed: 47', 'Unnamed: 48', 'Unnamed: 49',\n",
    "       'Unnamed: 50', 'Unnamed: 51', 'Unnamed: 52', 'Unnamed: 53',\n",
    "       'Unnamed: 54', 'Unnamed: 55', 'Unnamed: 56', 'Unnamed: 57',\n",
    "       'Unnamed: 58', 'Unnamed: 59', 'Unnamed: 60', 'Unnamed: 61',\n",
    "       'Unnamed: 62', 'Unnamed: 63', 'Unnamed: 64', 'Unnamed: 65',\n",
    "       'Unnamed: 66'], axis=1, inplace=True) \n",
    "\n",
    "df.head()\n",
    "\n",
    "df.tail\n",
    "\n",
    "df.drop([4550,4551,4552],axis=0,inplace=True)\n",
    "\n",
    "\n",
    "print(df.shape)"
   ]
  },
  {
   "cell_type": "code",
   "execution_count": null,
   "id": "5c62b868",
   "metadata": {},
   "outputs": [],
   "source": [
    "#Question 1 data clean up\n",
    "\n",
    "print(df['Country of Operator/Owner'].unique())\n",
    "\n",
    "print(len(df['Country of Operator/Owner'].unique()))"
   ]
  },
  {
   "cell_type": "code",
   "execution_count": null,
   "id": "820d5299",
   "metadata": {},
   "outputs": [],
   "source": [
    "#Question 1 data clean up contd\n",
    "\n",
    "for country in df['Country of Operator/Owner']:\n",
    "    \n",
    "    if '/' in country or country=='Multinational' or country=='ESA':\n",
    "        \n",
    "        df['Country of Operator/Owner'].replace(to_replace = country, value = 'Others',inplace=True)\n",
    "        \n",
    "df['Country of Operator/Owner'].replace(to_replace = 'China ', value = 'China',inplace=True)\n",
    "\n",
    "print(df['Country of Operator/Owner'].unique())\n",
    "\n",
    "print(len(df['Country of Operator/Owner'].unique()))"
   ]
  },
  {
   "cell_type": "code",
   "execution_count": null,
   "id": "219e4251",
   "metadata": {},
   "outputs": [],
   "source": [
    "#Question 1\n",
    "\n",
    "df['Country of Operator/Owner']=df['Country of Operator/Owner'].astype('string')\n",
    "\n",
    "df['Country of Operator/Owner']=df['Country of Operator/Owner'].str.upper()\n",
    "\n",
    "country_name=input('Enter a Country Name: ').upper()\n",
    "              \n",
    "if country_name in df['Country of Operator/Owner'].values:\n",
    "    \n",
    "    filtered_df=df[df['Country of Operator/Owner']==country_name]\n",
    "    \n",
    "    count_number_of_satellites=filtered_df['Current Official Name of Satellite'].count()\n",
    "\n",
    "    satellites_purpose=filtered_df['Purpose'].unique()\n",
    "\n",
    "    satellites_purpose=list(satellites_purpose)\n",
    "\n",
    "    satellites_purpose=', '.join(satellites_purpose)\n",
    "\n",
    "    print('{} has {} satellites in orbit and the use cut across {}'.format(country_name.capitalize(), count_number_of_satellites,satellites_purpose))\n",
    "\n",
    "else:\n",
    "    \n",
    "    print('Country doesn\\'t exist in the data') "
   ]
  },
  {
   "cell_type": "code",
   "execution_count": null,
   "id": "ce1e802d",
   "metadata": {},
   "outputs": [],
   "source": [
    "#Question 2 data clean up\n",
    "\n",
    "print(df['Users'].unique())\n",
    "\n",
    "print(len(df['Users'].unique()))\n"
   ]
  },
  {
   "cell_type": "code",
   "execution_count": null,
   "id": "64e2d82d",
   "metadata": {},
   "outputs": [],
   "source": [
    "#Question 2 data clean up contd\n",
    "\n",
    "df['Users'].replace(to_replace = ['Commercial ','Military ','Earth Observation','Government/Military','Government/Civil','Government/Commercial'] , value = ['Commercial','Military','Military','Military/Government', 'Civil/Government','Commercial/Government'], inplace=True)\n",
    "\n",
    "for users in df['Users']:\n",
    "    \n",
    "    if users=='Commercial' or users=='Civil' or users=='Government' or users=='Military':\n",
    "        \n",
    "        df['Users']=df['Users']\n",
    "        \n",
    "    else:\n",
    "        \n",
    "        df['Users'].replace(to_replace = users, value = 'Others',inplace=True)\n",
    "        \n",
    "\n",
    "print(df['Users'].unique())\n",
    "\n",
    "print(len(df['Users'].unique()))"
   ]
  },
  {
   "cell_type": "code",
   "execution_count": null,
   "id": "d1f8cc8d",
   "metadata": {},
   "outputs": [],
   "source": [
    "#Question 2\n",
    "\n",
    "df['Users']=df['Users'].astype('string')\n",
    "\n",
    "df['Users']=df['Users'].str.upper()\n",
    "\n",
    "user_name=input('Enter a user name: ').upper()\n",
    "    \n",
    "if user_name in df['Users'].values:\n",
    "        \n",
    "    filtered_df=df[df['Users']==user_name]\n",
    "\n",
    "    count_number_of_satellites=filtered_df['Current Official Name of Satellite'].count()\n",
    "\n",
    "    print('{} satellites in orbit are used for {} purpose'.format(count_number_of_satellites,user_name.capitalize()))\n",
    "        \n",
    "else:\n",
    "        \n",
    "    print('username is not valid')"
   ]
  },
  {
   "cell_type": "code",
   "execution_count": null,
   "id": "53a37806",
   "metadata": {},
   "outputs": [],
   "source": [
    "#Question 3 data clean up\n",
    "\n",
    "print(df['Purpose'].unique())\n",
    "\n",
    "print(len(df['Purpose'].unique()))\n"
   ]
  },
  {
   "cell_type": "code",
   "execution_count": null,
   "id": "eba5fe29",
   "metadata": {},
   "outputs": [],
   "source": [
    "#Question 3 data clean contd\n",
    "\n",
    "df['Purpose'].replace(to_replace='Earth Observation ', value='Earth Observation', inplace=True)\n",
    "\n",
    "print(df['Purpose'].unique())\n",
    "\n",
    "print(len(df['Purpose'].unique()))"
   ]
  },
  {
   "cell_type": "code",
   "execution_count": null,
   "id": "2adb551c",
   "metadata": {},
   "outputs": [],
   "source": [
    "#Question 3\n",
    "\n",
    "filtered_df=df[df['Purpose']=='Earth Observation']\n",
    "\n",
    "list_countries=list(filtered_df['Country of Operator/Owner'].unique())\n",
    "\n",
    "list_countries.remove('OTHERS')\n",
    "\n",
    "print(list_countries)\n",
    "\n",
    "print(len(list_countries))"
   ]
  },
  {
   "cell_type": "code",
   "execution_count": null,
   "id": "9c5fba2c",
   "metadata": {},
   "outputs": [],
   "source": [
    "#Question 4\n",
    "\n",
    "date_launch_oldest_satellite=(df['Date of Launch'].min())\n",
    "\n",
    "filtered_df2=df[df['Date of Launch']==date_launch_oldest_satellite]\n",
    "\n",
    "satellite_name=str(list(filtered_df2['Current Official Name of Satellite']))\n",
    "\n",
    "satellite_name=satellite_name[2:-2]\n",
    "\n",
    "print('The oldest working satellite is {} and it was launched on {}'.format(satellite_name,date_launch_oldest_satellite))"
   ]
  },
  {
   "cell_type": "code",
   "execution_count": null,
   "id": "2ec1d851",
   "metadata": {},
   "outputs": [],
   "source": [
    "#Question 5\n",
    "\n",
    "df['Perigee (km)']=df['Perigee (km)'].astype('string') \n",
    "\n",
    "df['Apogee (km)']=df['Apogee (km)'].astype('string')\n",
    "\n",
    "df['altitude range']=df['Perigee (km)'] + '-'+ df['Apogee (km)']\n",
    "\n",
    "altitude_range_mode=str(df['altitude range'].mode())\n",
    "\n",
    "print(altitude_range_mode)\n"
   ]
  },
  {
   "cell_type": "code",
   "execution_count": null,
   "id": "41cdc7c2",
   "metadata": {},
   "outputs": [],
   "source": [
    "#Question 6\n",
    "\n",
    "df['Purpose'].value_counts()"
   ]
  }
 ],
 "metadata": {
  "kernelspec": {
   "display_name": "Python 3 (ipykernel)",
   "language": "python",
   "name": "python3"
  },
  "language_info": {
   "codemirror_mode": {
    "name": "ipython",
    "version": 3
   },
   "file_extension": ".py",
   "mimetype": "text/x-python",
   "name": "python",
   "nbconvert_exporter": "python",
   "pygments_lexer": "ipython3",
   "version": "3.8.12"
  }
 },
 "nbformat": 4,
 "nbformat_minor": 5
}
