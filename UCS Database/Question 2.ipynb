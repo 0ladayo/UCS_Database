{
 "cells": [
  {
   "cell_type": "code",
   "execution_count": null,
   "id": "4be3bb89",
   "metadata": {},
   "outputs": [
    {
     "name": "stdout",
     "output_type": "stream",
     "text": [
      "Enter a user name: Military\n",
      "403 satellites in orbit are used for Military purpose\n",
      "Enter a user name: Commercial\n",
      "3207 satellites in orbit are used for Commercial purpose\n"
     ]
    }
   ],
   "source": [
    "import pandas as pd\n",
    "\n",
    "import numpy as np\n",
    "\n",
    "df=pd.read_excel(r'C:\\Users\\Oladayo\\Desktop\\UCS-Satellite-Database-9-1-2021.xls')\n",
    "\n",
    "df.drop(['Unnamed: 37',\n",
    "       'Unnamed: 38', 'Unnamed: 39', 'Unnamed: 40', 'Unnamed: 41',\n",
    "       'Unnamed: 42', 'Unnamed: 43', 'Unnamed: 44', 'Unnamed: 45',\n",
    "       'Unnamed: 46', 'Unnamed: 47', 'Unnamed: 48', 'Unnamed: 49',\n",
    "       'Unnamed: 50', 'Unnamed: 51', 'Unnamed: 52', 'Unnamed: 53',\n",
    "       'Unnamed: 54', 'Unnamed: 55', 'Unnamed: 56', 'Unnamed: 57',\n",
    "       'Unnamed: 58', 'Unnamed: 59', 'Unnamed: 60', 'Unnamed: 61',\n",
    "       'Unnamed: 62', 'Unnamed: 63', 'Unnamed: 64', 'Unnamed: 65',\n",
    "       'Unnamed: 66'], axis=1, inplace=True) \n",
    "\n",
    "df.drop([4550,4551,4552],axis=0,inplace=True)\n",
    "\n",
    "df['Users'].replace(to_replace = ['Commercial ','Military ','Earth Observation','Government/Military','Government/Civil','Government/Commercial'] , value = ['Commercial','Military','Military','Military/Government', 'Civil/Government','Commercial/Government'], inplace=True)\n",
    "\n",
    "for users in df['Users']:\n",
    "    \n",
    "    if users=='Commercial' or users=='Civil' or users=='Government' or users=='Military':\n",
    "        \n",
    "        df['Users']=df['Users']\n",
    "        \n",
    "    else:\n",
    "        \n",
    "        df['Users'].replace(to_replace = users, value = 'Others',inplace=True)\n",
    "\n",
    "df['Users']=df['Users'].astype('string')\n",
    "\n",
    "df['Users']=df['Users'].str.upper()\n",
    "\n",
    "while True:\n",
    "    \n",
    "    user_name=input('Enter a user name: ').upper()\n",
    "    \n",
    "    if user_name in df['Users'].values:\n",
    "        \n",
    "        filtered_df=df[df['Users']==user_name]\n",
    "        \n",
    "        count_number_of_satellites=filtered_df['Current Official Name of Satellite'].count()\n",
    "        \n",
    "        print('{} satellites in orbit are used for {} purpose'.format(count_number_of_satellites,user_name.capitalize()))\n",
    "        \n",
    "    else:\n",
    "        \n",
    "        print('username is not valid')\n"
   ]
  },
  {
   "cell_type": "code",
   "execution_count": null,
   "id": "dfc9fd27",
   "metadata": {},
   "outputs": [],
   "source": []
  }
 ],
 "metadata": {
  "kernelspec": {
   "display_name": "Python 3",
   "language": "python",
   "name": "python3"
  },
  "language_info": {
   "codemirror_mode": {
    "name": "ipython",
    "version": 3
   },
   "file_extension": ".py",
   "mimetype": "text/x-python",
   "name": "python",
   "nbconvert_exporter": "python",
   "pygments_lexer": "ipython3",
   "version": "3.8.10"
  }
 },
 "nbformat": 4,
 "nbformat_minor": 5
}
