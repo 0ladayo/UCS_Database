{
 "cells": [
  {
   "cell_type": "code",
   "execution_count": 2,
   "id": "551d0fe0",
   "metadata": {},
   "outputs": [
    {
     "name": "stdout",
     "output_type": "stream",
     "text": [
      "['USA', 'Denmark', 'Spain', 'Algeria', 'Brazil', 'Russia', 'Belgium', 'Turkey', 'Japan', 'China', 'Germany', 'Belarus', 'France', 'India', 'South Korea', 'South Africa', 'Italy', 'Mexico', 'United Kingdom', 'United Arab Emirates', 'Egypt', 'Israel', 'Ethiopia', 'Colombia', 'Taiwan', 'Finland', 'Kazakhstan', 'Singapore', 'Luxembourg', 'Indonesia', 'Canada', 'Vietnam', 'Mauritius', 'Morocco', 'Thailand', 'Slovenia', 'Nepal', 'Nigeria', 'Iran', 'Norway', 'Argentina', 'Sweden', 'Pakistan', 'Peru', 'Sri Lanka', 'Saudi Arabia', 'Sudan', 'Chile', 'Poland', 'Iraq', 'Estonia', 'Venezuela']\n",
      "52\n"
     ]
    }
   ],
   "source": [
    "import pandas as pd\n",
    "\n",
    "import numpy as np\n",
    "\n",
    "df=pd.read_excel(r'C:\\Users\\Oladayo\\Desktop\\UCS-Satellite-Database-9-1-2021.xls')\n",
    "\n",
    "df.drop(['Unnamed: 37',\n",
    "       'Unnamed: 38', 'Unnamed: 39', 'Unnamed: 40', 'Unnamed: 41',\n",
    "       'Unnamed: 42', 'Unnamed: 43', 'Unnamed: 44', 'Unnamed: 45',\n",
    "       'Unnamed: 46', 'Unnamed: 47', 'Unnamed: 48', 'Unnamed: 49',\n",
    "       'Unnamed: 50', 'Unnamed: 51', 'Unnamed: 52', 'Unnamed: 53',\n",
    "       'Unnamed: 54', 'Unnamed: 55', 'Unnamed: 56', 'Unnamed: 57',\n",
    "       'Unnamed: 58', 'Unnamed: 59', 'Unnamed: 60', 'Unnamed: 61',\n",
    "       'Unnamed: 62', 'Unnamed: 63', 'Unnamed: 64', 'Unnamed: 65',\n",
    "       'Unnamed: 66'], axis=1, inplace=True) \n",
    "\n",
    "df.drop([4550,4551,4552],axis=0,inplace=True)\n",
    "\n",
    "for country in df['Country of Operator/Owner']:\n",
    "    \n",
    "    if '/' in country or country=='Multinational' or country=='ESA':\n",
    "        \n",
    "        df['Country of Operator/Owner'].replace(to_replace = country, value = 'Others',inplace=True)\n",
    "        \n",
    "df['Country of Operator/Owner'].replace(to_replace = 'China ', value = 'China',inplace=True)\n",
    "\n",
    "df['Purpose'].replace(to_replace='Earth Observation ', value='Earth Observation', inplace=True)\n",
    "\n",
    "filtered_df=df[df['Purpose']=='Earth Observation']\n",
    "\n",
    "list_countries=list(filtered_df['Country of Operator/Owner'].unique())\n",
    "\n",
    "list_countries.remove('Others')\n",
    "\n",
    "print(list_countries)\n",
    "\n",
    "print(len(list_countries))\n"
   ]
  },
  {
   "cell_type": "code",
   "execution_count": 3,
   "id": "2e003b1e",
   "metadata": {},
   "outputs": [
    {
     "name": "stdout",
     "output_type": "stream",
     "text": [
      "The oldest working satellite is Amsat-Oscar 7 and it was launched on 1974-11-15 00:00:00\n"
     ]
    }
   ],
   "source": [
    "date_launch_oldest_satellite=(df['Date of Launch'].min())\n",
    "\n",
    "filtered_df2=df[df['Date of Launch']==date_launch_oldest_satellite]\n",
    "\n",
    "satellite_name=str(list(filtered_df2['Current Official Name of Satellite']))\n",
    "\n",
    "satellite_name=satellite_name[2:-2]\n",
    "\n",
    "print('The oldest working satellite is {} and it was launched on {}'.format(satellite_name,date_launch_oldest_satellite))"
   ]
  },
  {
   "cell_type": "code",
   "execution_count": 5,
   "id": "1ed4027d",
   "metadata": {},
   "outputs": [
    {
     "name": "stdout",
     "output_type": "stream",
     "text": [
      "0    548.0-561.0\n",
      "dtype: string\n",
      "777\n"
     ]
    }
   ],
   "source": [
    "df['Perigee (km)']=df['Perigee (km)'].astype('string') \n",
    "\n",
    "df['Apogee (km)']=df['Apogee (km)'].astype('string')\n",
    "\n",
    "df['altitude range']=df['Perigee (km)'] + '-'+ df['Apogee (km)']\n",
    "\n",
    "altitude_range_mode=str(df['altitude range'].mode())\n",
    "\n",
    "print(altitude_range_mode)\n",
    "\n",
    "filtered_df3= df[df['altitude range']=='548.0-561.0']\n",
    "\n",
    "print(filtered_df3['Current Official Name of Satellite'].count())"
   ]
  },
  {
   "cell_type": "code",
   "execution_count": 6,
   "id": "02412366",
   "metadata": {},
   "outputs": [
    {
     "data": {
      "text/plain": [
       "Communications                                    2854\n",
       "Earth Observation                                  995\n",
       "Technology Development                             340\n",
       "Navigation/Global Positioning                      138\n",
       "Space Science                                       99\n",
       "Technology Demonstration                            34\n",
       "Earth Science                                       18\n",
       "Navigation/Regional Positioning                     12\n",
       "Surveillance                                         9\n",
       "Space Observation                                    8\n",
       "Earth Observation/Technology Development             7\n",
       "Communications/Maritime Tracking                     5\n",
       "Communications/Technology Development                5\n",
       "Unknown                                              5\n",
       "Communication                                        2\n",
       "Earth/Space Observation                              2\n",
       "Mission Extension Technology                         2\n",
       "Technology Development/Educational                   2\n",
       "Earth Observation/Communications                     2\n",
       "Space Science/Technology Development                 1\n",
       "Earth Observation/Communications/Space Science       1\n",
       "Educational                                          1\n",
       "Platform                                             1\n",
       "Signals Intelligence                                 1\n",
       "Communications/Navigation                            1\n",
       "Earth Science/Earth Observation                      1\n",
       "Earth Observation/Space Science                      1\n",
       "Space Science/Technology Demonstration               1\n",
       "Earth Observation/Earth Science                      1\n",
       "Satellite Positioning                                1\n",
       "Name: Purpose, dtype: int64"
      ]
     },
     "execution_count": 6,
     "metadata": {},
     "output_type": "execute_result"
    }
   ],
   "source": [
    "df['Purpose'].value_counts()"
   ]
  },
  {
   "cell_type": "code",
   "execution_count": null,
   "id": "df056ef3",
   "metadata": {},
   "outputs": [],
   "source": []
  }
 ],
 "metadata": {
  "kernelspec": {
   "display_name": "Python 3",
   "language": "python",
   "name": "python3"
  },
  "language_info": {
   "codemirror_mode": {
    "name": "ipython",
    "version": 3
   },
   "file_extension": ".py",
   "mimetype": "text/x-python",
   "name": "python",
   "nbconvert_exporter": "python",
   "pygments_lexer": "ipython3",
   "version": "3.8.10"
  }
 },
 "nbformat": 4,
 "nbformat_minor": 5
}
