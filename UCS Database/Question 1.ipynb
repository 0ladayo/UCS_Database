{
 "cells": [
  {
   "cell_type": "code",
   "execution_count": null,
   "id": "ad35e655",
   "metadata": {},
   "outputs": [
    {
     "name": "stdout",
     "output_type": "stream",
     "text": [
      "Enter a Country Name: Nigeria\n",
      "Nigeria has 3 satellites in orbit and the use cut across Communications, Earth Observation, Earth Observation/Technology Development\n",
      "Enter a Country Name: Usa\n",
      "Usa has 2769 satellites in orbit and the use cut across Earth Observation, Communications, Technology Development, Space Science/Technology Demonstration, Earth Observation/Technology Development, Earth Science, Space Science, Educational, Space Observation, Surveillance, Earth Observation , Communication, Mission Extension Technology, Navigation/Global Positioning, Unknown, Technology Demonstration, Satellite Positioning\n",
      "Enter a Country Name: China\n",
      "China has 462 satellites in orbit and the use cut across Communications, Earth Observation, Navigation/Global Positioning, Technology Development, Earth Observation , Space Science, Earth Observation/Technology Development, Earth Observation/Communications, Technology Demonstration, Earth Science\n",
      "Enter a Country Name: Portugal\n",
      "Country doesn't exist in the data\n",
      "Enter a Country Name: Ghana\n",
      "Country doesn't exist in the data\n"
     ]
    }
   ],
   "source": [
    "import pandas as pd\n",
    "\n",
    "import numpy as np\n",
    "\n",
    "df=pd.read_excel(r'C:\\Users\\Oladayo\\Desktop\\UCS-Satellite-Database-9-1-2021.xls')\n",
    "\n",
    "df.drop(['Unnamed: 37',\n",
    "       'Unnamed: 38', 'Unnamed: 39', 'Unnamed: 40', 'Unnamed: 41',\n",
    "       'Unnamed: 42', 'Unnamed: 43', 'Unnamed: 44', 'Unnamed: 45',\n",
    "       'Unnamed: 46', 'Unnamed: 47', 'Unnamed: 48', 'Unnamed: 49',\n",
    "       'Unnamed: 50', 'Unnamed: 51', 'Unnamed: 52', 'Unnamed: 53',\n",
    "       'Unnamed: 54', 'Unnamed: 55', 'Unnamed: 56', 'Unnamed: 57',\n",
    "       'Unnamed: 58', 'Unnamed: 59', 'Unnamed: 60', 'Unnamed: 61',\n",
    "       'Unnamed: 62', 'Unnamed: 63', 'Unnamed: 64', 'Unnamed: 65',\n",
    "       'Unnamed: 66'], axis=1, inplace=True) \n",
    "\n",
    "df.drop([4550,4551,4552],axis=0,inplace=True)\n",
    "\n",
    "for country in df['Country of Operator/Owner']:\n",
    "    \n",
    "    if '/' in country or country=='Multinational' or country=='ESA':\n",
    "        \n",
    "        df['Country of Operator/Owner'].replace(to_replace = country, value = 'Others',inplace=True)\n",
    "        \n",
    "df['Country of Operator/Owner'].replace(to_replace = 'China ', value = 'China',inplace=True)\n",
    "\n",
    "df['Country of Operator/Owner']=df['Country of Operator/Owner'].astype('string')\n",
    "\n",
    "df['Country of Operator/Owner']=df['Country of Operator/Owner'].str.upper()\n",
    "\n",
    "while True:\n",
    "    \n",
    "    country_name=input('Enter a Country Name: ').upper()\n",
    "              \n",
    "    if country_name in df['Country of Operator/Owner'].values:\n",
    "        \n",
    "        filtered_df=df[df['Country of Operator/Owner']==country_name]\n",
    "    \n",
    "        count_number_of_satellites=filtered_df['Current Official Name of Satellite'].count()\n",
    "        \n",
    "        satellites_purpose=filtered_df['Purpose'].unique()\n",
    "    \n",
    "        satellites_purpose=list(satellites_purpose)\n",
    "        \n",
    "        satellites_purpose=', '.join(satellites_purpose)\n",
    "\n",
    "        print('{} has {} satellites in orbit and the use cut across {}'.format(country_name.capitalize(), count_number_of_satellites,satellites_purpose))\n",
    "\n",
    "    else:\n",
    "    \n",
    "        print('Country doesn\\'t exist in the data')     "
   ]
  },
  {
   "cell_type": "code",
   "execution_count": null,
   "id": "811a12e0",
   "metadata": {},
   "outputs": [],
   "source": []
  }
 ],
 "metadata": {
  "kernelspec": {
   "display_name": "Python 3",
   "language": "python",
   "name": "python3"
  },
  "language_info": {
   "codemirror_mode": {
    "name": "ipython",
    "version": 3
   },
   "file_extension": ".py",
   "mimetype": "text/x-python",
   "name": "python",
   "nbconvert_exporter": "python",
   "pygments_lexer": "ipython3",
   "version": "3.8.10"
  }
 },
 "nbformat": 4,
 "nbformat_minor": 5
}
